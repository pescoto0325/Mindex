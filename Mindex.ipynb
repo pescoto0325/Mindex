{
 "cells": [
  {
   "cell_type": "code",
   "execution_count": 1,
   "id": "9f46e1e6",
   "metadata": {},
   "outputs": [
    {
     "name": "stdout",
     "output_type": "stream",
     "text": [
      "Hello\n"
     ]
    }
   ],
   "source": [
    "print('Hello')"
   ]
  },
  {
   "cell_type": "code",
   "execution_count": 2,
   "id": "44052163",
   "metadata": {},
   "outputs": [
    {
     "name": "stdout",
     "output_type": "stream",
     "text": [
      "Trate\n"
     ]
    }
   ],
   "source": [
    "print('Trate')"
   ]
  },
  {
   "cell_type": "code",
   "execution_count": null,
   "id": "26b5a949",
   "metadata": {},
   "outputs": [],
   "source": []
  }
 ],
 "metadata": {
  "kernelspec": {
   "display_name": "Python 3.9.6 64-bit",
   "language": "python",
   "name": "python3"
  },
  "language_info": {
   "codemirror_mode": {
    "name": "ipython",
    "version": 3
   },
   "file_extension": ".py",
   "mimetype": "text/x-python",
   "name": "python",
   "nbconvert_exporter": "python",
   "pygments_lexer": "ipython3",
   "version": "3.9.6"
  },
  "vscode": {
   "interpreter": {
    "hash": "d8d531b17460e662846e344280820a7c431e7703bbb6c70cc1a9acf8cd75a88d"
   }
  }
 },
 "nbformat": 4,
 "nbformat_minor": 5
}
